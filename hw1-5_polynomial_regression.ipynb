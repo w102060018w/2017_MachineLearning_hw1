{
 "cells": [
  {
   "cell_type": "markdown",
   "metadata": {},
   "source": [
    "## Polynomial Regression\n",
    "Apply polynomial regression on real-world problem which has multi-dimension on input data.</br>\n",
    "\n",
    "##### Data\n",
    "There are 3 classes of 50 instances for each. </br>\n",
    "The first 40 samples of each class are used as training set, and the last 10 samples as testing set.</br>\n",
    "\n",
    "**Number of attributes**: 5 (4-dim input (data), 1-dim targrt (class-label))"
   ]
  },
  {
   "cell_type": "code",
   "execution_count": 231,
   "metadata": {
    "collapsed": true
   },
   "outputs": [],
   "source": [
    "import pandas as pd\n",
    "import numpy as np\n",
    "from numpy.linalg import pinv,inv,matrix_power\n",
    "from scipy.io import loadmat"
   ]
  },
  {
   "cell_type": "markdown",
   "metadata": {},
   "source": [
    "### Load and preprocess data"
   ]
  },
  {
   "cell_type": "code",
   "execution_count": 232,
   "metadata": {
    "collapsed": true
   },
   "outputs": [],
   "source": [
    "data_dir = './data/'\n",
    "x = loadmat(data_dir+'5_X.mat')['X']\n",
    "t = loadmat(data_dir+'5_T.mat')['T']\n",
    "# print(tr)\n",
    "# print(ts)\n",
    "\n",
    "x_dim = 4\n",
    "t_dim = 1\n",
    "n_per_class = 50 \n",
    "class_n = 3\n",
    "\n",
    "# prepare to divide into training and testing\n",
    "x = x.reshape(class_n,n_per_class,x_dim)\n",
    "t = t.reshape(class_n,n_per_class)\n",
    "\n",
    "# divide into train and test\n",
    "tr_n_per_class = 40\n",
    "ts_n_per_class = 10\n",
    "tr_x = np.zeros((tr_n_per_class*class_n , x_dim))\n",
    "ts_x = np.zeros((ts_n_per_class*class_n , x_dim))\n",
    "tr_t = np.zeros(tr_n_per_class*class_n)\n",
    "ts_t = np.zeros(ts_n_per_class*class_n)\n",
    "for cls in range(class_n):\n",
    "    tr_x[(cls)*tr_n_per_class:(cls+1)*tr_n_per_class] = x[cls][:tr_n_per_class]\n",
    "    ts_x[(cls)*ts_n_per_class:(cls+1)*ts_n_per_class] = x[cls][tr_n_per_class:]\n",
    "    tr_t[(cls)*tr_n_per_class:(cls+1)*tr_n_per_class] = t[cls][:tr_n_per_class]\n",
    "    ts_t[(cls)*ts_n_per_class:(cls+1)*ts_n_per_class] = t[cls][tr_n_per_class:]\n",
    "\n",
    "N_tr = len(tr_t)\n",
    "N_ts = len(ts_t)\n"
   ]
  },
  {
   "cell_type": "markdown",
   "metadata": {},
   "source": [
    "### Apply regression for class estimation by minimizing the non-regularized error function\n",
    "\n",
    "The error function looks like below:\n",
    "\n",
    "$$E(w) = \\frac{1}{2}*\\sum_{n=1}^{N}(y(x_n,w)-t_n)^{2} $$\n",
    "\n",
    "However, since our input, x, now turn to be multi-dimension, the polynomial function should be generalized, here is an example of order=2 (**M=2**):\n",
    "\n",
    "\n",
    "$$y(x,w) = w_0 + \\sum_{i=1}^{D}w_i*x_i + \\sum_{i=1}^{D}\\sum_{j=1}^{D}w_{ij}*x_i*x_j $$\n",
    "\n",
    "note that in this problem, the dimension, D, equals to 4"
   ]
  },
  {
   "cell_type": "code",
   "execution_count": 235,
   "metadata": {},
   "outputs": [
    {
     "name": "stdout",
     "output_type": "stream",
     "text": [
      "training rms-Err for M = 1 is 0.226279143015.\n",
      "testing rms-Err for M = 1 is 0.171124893337.\n",
      "training rms-Err for M = 2 is 0.188594629096.\n",
      "testing rms-Err for M = 2 is 0.153232445343.\n"
     ]
    }
   ],
   "source": [
    "'''\n",
    "compare to preoblem4, the only difference is the form of 'phi', o.w. the other stuffs like the solution of W still \n",
    "equals to (phi^T * phi)^-1 * phi^T * t.\n",
    "phi = [[x1^0,x1^1....x1^M],[x2^0,x2^1....x2^M], .... [xN^0,xN^1....xN^M]], while each x1, x2, ... xN are all in \n",
    "'Vector' form.\n",
    "t = [t1,t2,t3 ... ,tN], which are just 'class-label' of each xN\n",
    "'''\n",
    "def VecPower(vec, power):\n",
    "    vec = np.asarray(vec).reshape(1,len(vec))\n",
    "    mat_prev = 1\n",
    "    for i in range(power):\n",
    "        mat = np.dot(mat_prev,  vec)\n",
    "        mat_prev = mat.reshape(-1,1) # reshape as (_,1) to preapre next for-loop matrix-multiplication\n",
    "    \n",
    "    result = mat.reshape(1,-1)[0]\n",
    "    return result\n",
    "\n",
    "tr_rms_ary = []\n",
    "ts_rms_ary = []\n",
    "Ms = [1,2]\n",
    "for M in Ms:\n",
    "    W_mat = [] \n",
    "    # Init data-num, valu-M and matrix-initialization\n",
    "    # initial phi_mat with [[x1^{0}],[x2^{0}], ... ,[xN^{0}]], and turn it into list-type to prepare concate.\n",
    "    Phi_mat = [list(x) for x in np.ones((N_tr,1))]\n",
    "    T = np.zeros((N_tr,1))\n",
    "    W = []\n",
    "\n",
    "    for r_idx in range(N_tr):\n",
    "        X_mat.append([1])# xN^{0} = 1\n",
    "        for c_idx in range(M):\n",
    "            # concate diff. power of same xN result in one row\n",
    "            Phi_mat[r_idx] = Phi_mat[r_idx] + list(VecPower(tr_x[r_idx],c_idx+1))\n",
    "        T[r_idx][0] = tr_t[r_idx]\n",
    "\n",
    "    Phi_mat = np.asarray(Phi_mat)\n",
    "    \n",
    "    # Start calculating W result\n",
    "    W = np.dot( pinv(Phi_mat) , T)\n",
    "    \n",
    "    # save w-vector power and later use in y(x,w)\n",
    "    s_p = 0\n",
    "    for i in range(M+1):\n",
    "        size_w = x_dim**i\n",
    "        W_mat.append(W[s_p:s_p+size_w])\n",
    "        s_p += size_w\n",
    "        \n",
    "#     print(W)\n",
    "#     print(W_mat[1])\n",
    "#     print(X_mat[1])\n",
    "    \n",
    "    \n",
    "    # Root mean square\n",
    "    def poly_func (input_data, m):\n",
    "        val = 0    \n",
    "        for i in range(m+1): \n",
    "            if i == 0:\n",
    "                x_ = 1\n",
    "            elif i == 1:\n",
    "                x_ = np.asarray(input_data)\n",
    "                x_ = x_.reshape(1,-1)[0]\n",
    "            elif i == 2:\n",
    "                x_ = np.asarray([[x*y for y in input_data] for x in input_data])\n",
    "                x_ = x_.reshape(1,-1)[0]\n",
    "\n",
    "            w_ = W_mat[i].reshape(1,-1)[0]\n",
    "            val += np.sum(x_ * w_)\n",
    "            \n",
    "        return val\n",
    "\n",
    "    def Cal_rms(length, input_data, target_data, W, m):\n",
    "        Err = 0\n",
    "        for n in range(length):\n",
    "            # careful on the transpose result have to index into it again\n",
    "            Err += (poly_func(input_data[n], m) - target_data[n])**2 \n",
    "        Err /= 2\n",
    "        RMS_err = np.sqrt((2*Err)/length)\n",
    "        \n",
    "        return RMS_err\n",
    "    \n",
    "    RMS_err_tr = Cal_rms(N_tr, tr_x, tr_t, W, M)\n",
    "    RMS_err_ts = Cal_rms(N_ts, ts_x, ts_t, W, M)\n",
    "    tr_rms_ary.append(RMS_err_tr)\n",
    "    ts_rms_ary.append(RMS_err_ts)\n",
    "    \n",
    "    print('training rms-Err for M = %s is %s.' % (str(M),str(RMS_err_tr)))\n",
    "    print('testing rms-Err for M = %s is %s.' % (str(M),str(RMS_err_ts)))"
   ]
  },
  {
   "cell_type": "code",
   "execution_count": 236,
   "metadata": {},
   "outputs": [
    {
     "data": {
      "image/png": "[encoded data removed]",
      "text/plain": [
       "<matplotlib.figure.Figure at 0x181320d3c8>"
      ]
     },
     "metadata": {},
     "output_type": "display_data"
    }
   ],
   "source": [
    "# visualize result\n",
    "import matplotlib.pyplot as plt\n",
    "%matplotlib inline\n",
    "\n",
    "fig = plt.figure()\n",
    "cmap = plt.get_cmap('gnuplot')\n",
    "colors = [cmap(i) for i in np.linspace(0, 1, 4)]\n",
    "plt.plot(range(1,3),tr_rms_ary ,color=colors[1], label='training-RMS_err'.format(i=0))\n",
    "plt.plot(range(1,3),ts_rms_ary ,color=colors[2], label='testing-RMS_err'.format(i=1))\n",
    "#          'ro-', label='training-RMSerr'.format(0),range(1,10),ts_rms_ary,'bo-',label='testing-RMSerr'.format(0))\n",
    "# plt.axis([0, 6, 0, 20])\n",
    "plt.legend(loc='best')\n",
    "plt.xlabel('M-Value')\n",
    "plt.ylabel('RMS')\n",
    "plt.savefig('hw1-5-(1)_non_regularize_multi-dim.png')\n",
    "\n",
    "plt.show()\n",
    "plt.close(fig)"
   ]
  },
  {
   "cell_type": "code",
   "execution_count": 242,
   "metadata": {},
   "outputs": [
    {
     "name": "stdout",
     "output_type": "stream",
     "text": [
      "training rms-Err for dim = 1 is 0.510306458755.\n",
      "training rms-Err for dim = 2 is 0.411731232935.\n",
      "training rms-Err for dim = 3 is 0.213847493016.\n",
      "training rms-Err for dim = 4 is 0.188594629096.\n"
     ]
    }
   ],
   "source": [
    "#Find best attribute\n",
    "    \n",
    "tr_rms_ary = []\n",
    "ts_rms_ary = []\n",
    "M = 2\n",
    "Min_rms_attri = None\n",
    "Min_rms = np.inf\n",
    "for dim in range(x_dim):\n",
    "    tr_x_d = tr_x[:,:dim+1]\n",
    "    ts_x_d = ts_x[:,:dim+1]\n",
    "    \n",
    "    W_mat = [] \n",
    "    # Init data-num, valu-M and matrix-initialization\n",
    "    # initial phi_mat with [[x1^{0}],[x2^{0}], ... ,[xN^{0}]], and turn it into list-type to prepare concate.\n",
    "    Phi_mat = [list(x) for x in np.ones((N_tr,1))]\n",
    "    T = np.zeros((N_tr,1))\n",
    "    W = []\n",
    "\n",
    "    for r_idx in range(N_tr):\n",
    "        X_mat.append([1])# xN^{0} = 1\n",
    "        for c_idx in range(M):\n",
    "            # concate diff. power of same xN result in one row\n",
    "            Phi_mat[r_idx] = Phi_mat[r_idx] + list(VecPower(tr_x_d[r_idx],c_idx+1))\n",
    "        T[r_idx][0] = tr_t[r_idx]\n",
    "\n",
    "    Phi_mat = np.asarray(Phi_mat)\n",
    "    \n",
    "    # Start calculating W result\n",
    "    W = np.dot( pinv(Phi_mat) , T)\n",
    "    \n",
    "    # save w-vector power and later use in y(x,w)\n",
    "    s_p = 0\n",
    "    for i in range(M+1):\n",
    "        size_w = (dim+1)**i\n",
    "        W_mat.append(W[s_p:s_p+size_w])\n",
    "        s_p += size_w\n",
    "        \n",
    "#     print(W)\n",
    "#     print(W_mat)\n",
    "#     print(X_mat[1])\n",
    "    \n",
    "    \n",
    "    # Root mean square\n",
    "    def poly_func (input_data, m):\n",
    "        val = 0    \n",
    "        for i in range(m+1): \n",
    "            if i == 0:\n",
    "                x_ = 1\n",
    "            elif i == 1:\n",
    "                x_ = np.asarray(input_data)\n",
    "                x_ = x_.reshape(1,-1)[0]\n",
    "            elif i == 2:\n",
    "                x_ = np.asarray([[x*y for y in input_data] for x in input_data])\n",
    "                x_ = x_.reshape(1,-1)[0]\n",
    "\n",
    "            w_ = W_mat[i].reshape(1,-1)[0]\n",
    "            val += np.sum(x_ * w_)\n",
    "            \n",
    "        return val\n",
    "\n",
    "    def Cal_rms(length, input_data, target_data, W, m):\n",
    "        Err = 0\n",
    "        for n in range(length):\n",
    "            # careful on the transpose result have to index into it again\n",
    "            Err += (poly_func(input_data[n], m) - target_data[n])**2 \n",
    "        Err /= 2\n",
    "        RMS_err = np.sqrt((2*Err)/length)\n",
    "        \n",
    "        return RMS_err\n",
    "    \n",
    "    RMS_err_tr = Cal_rms(N_tr, tr_x_d, tr_t, W, M)\n",
    "    RMS_err_ts = Cal_rms(N_ts, ts_x_d, ts_t, W, M)\n",
    "    tr_rms_ary.append(RMS_err_tr)\n",
    "    ts_rms_ary.append(RMS_err_ts)\n",
    "    \n",
    "    print('training rms-Err for dim = %s is %s.' % (str(dim+1),str(RMS_err_tr)))\n",
    "#     print('testing rms-Err for dim = %s is %s.' % (str(dim+1),str(RMS_err_ts)))\n",
    "    \n",
    "    # update best RMS, and record the best sttribute\n",
    "    if RMS_err_tr < Min_rms:\n",
    "        Min_rms = RMS_err_tr\n",
    "        Min_rms_attri = (dim+1)"
   ]
  },
  {
   "cell_type": "code",
   "execution_count": 241,
   "metadata": {},
   "outputs": [
    {
     "data": {
      "image/png": "[encoded data removed]",
      "text/plain": [
       "<matplotlib.figure.Figure at 0x1812297860>"
      ]
     },
     "metadata": {},
     "output_type": "display_data"
    },
    {
     "name": "stdout",
     "output_type": "stream",
     "text": [
      "As the Figure show, we will choose attributes 4. Since it achieve lowest RMS value, 0.188594629096 \n"
     ]
    }
   ],
   "source": [
    "# visualize result\n",
    "import matplotlib.pyplot as plt\n",
    "%matplotlib inline\n",
    "\n",
    "fig = plt.figure()\n",
    "cmap = plt.get_cmap('gnuplot')\n",
    "colors = [cmap(i) for i in np.linspace(0, 1, 4)]\n",
    "plt.plot(range(1,5),tr_rms_ary ,color=colors[1], label='training-RMS_err'.format(i=0))\n",
    "plt.plot(range(1,5),ts_rms_ary ,color=colors[2], label='testing-RMS_err'.format(i=1))\n",
    "#          'ro-', label='training-RMSerr'.format(0),range(1,10),ts_rms_ary,'bo-',label='testing-RMSerr'.format(0))\n",
    "# plt.axis([0, 6, 0, 20])\n",
    "plt.legend(loc='best')\n",
    "plt.xlabel('Dimension')\n",
    "plt.ylabel('RMS')\n",
    "plt.savefig('hw1-5-(2)_atribute_decision.png')\n",
    "\n",
    "plt.show()\n",
    "plt.close(fig)\n",
    "print('As the Figure show, we will choose attributes %d. Since it achieve lowest RMS value, %s .' % (Min_rms_attri,str(Min_rms)))"
   ]
  },
  {
   "cell_type": "code",
   "execution_count": 220,
   "metadata": {},
   "outputs": [
    {
     "name": "stdout",
     "output_type": "stream",
     "text": [
      "<class 'numpy.ndarray'>\n",
      "(30, 4)\n",
      "[[ 5.   3.5  1.3  0.3]\n",
      " [ 4.5  2.3  1.3  0.3]\n",
      " [ 4.4  3.2  1.3  0.2]\n",
      " [ 5.   3.5  1.6  0.6]\n",
      " [ 5.1  3.8  1.9  0.4]\n",
      " [ 4.8  3.   1.4  0.3]\n",
      " [ 5.1  3.8  1.6  0.2]\n",
      " [ 4.6  3.2  1.4  0.2]\n",
      " [ 5.3  3.7  1.5  0.2]\n",
      " [ 5.   3.3  1.4  0.2]\n",
      " [ 5.5  2.6  4.4  1.2]\n",
      " [ 6.1  3.   4.6  1.4]\n",
      " [ 5.8  2.6  4.   1.2]\n",
      " [ 5.   2.3  3.3  1. ]\n",
      " [ 5.6  2.7  4.2  1.3]\n",
      " [ 5.7  3.   4.2  1.2]\n",
      " [ 5.7  2.9  4.2  1.3]\n",
      " [ 6.2  2.9  4.3  1.3]\n",
      " [ 5.1  2.5  3.   1.1]\n",
      " [ 5.7  2.8  4.1  1.3]\n",
      " [ 6.7  3.1  5.6  2.4]\n",
      " [ 6.9  3.1  5.1  2.3]\n",
      " [ 5.8  2.7  5.1  1.9]\n",
      " [ 6.8  3.2  5.9  2.3]\n",
      " [ 6.7  3.3  5.7  2.5]\n",
      " [ 6.7  3.   5.2  2.3]\n",
      " [ 6.3  2.5  5.   1.9]\n",
      " [ 6.5  3.   5.2  2. ]\n",
      " [ 6.2  3.4  5.4  2.3]\n",
      " [ 5.9  3.   5.1  1.8]]\n",
      "[[ 5. ]\n",
      " [ 4.5]\n",
      " [ 4.4]\n",
      " [ 5. ]\n",
      " [ 5.1]\n",
      " [ 4.8]\n",
      " [ 5.1]\n",
      " [ 4.6]\n",
      " [ 5.3]\n",
      " [ 5. ]\n",
      " [ 5.5]\n",
      " [ 6.1]\n",
      " [ 5.8]\n",
      " [ 5. ]\n",
      " [ 5.6]\n",
      " [ 5.7]\n",
      " [ 5.7]\n",
      " [ 6.2]\n",
      " [ 5.1]\n",
      " [ 5.7]\n",
      " [ 6.7]\n",
      " [ 6.9]\n",
      " [ 5.8]\n",
      " [ 6.8]\n",
      " [ 6.7]\n",
      " [ 6.7]\n",
      " [ 6.3]\n",
      " [ 6.5]\n",
      " [ 6.2]\n",
      " [ 5.9]]\n"
     ]
    }
   ],
   "source": [
    "# test on dimension\n",
    "print(type(ts_x))\n",
    "print(ts_x.shape)\n",
    "print(ts_x)\n",
    "print(ts_x[:,:1])"
   ]
  },
  {
   "cell_type": "code",
   "execution_count": null,
   "metadata": {
    "collapsed": true
   },
   "outputs": [],
   "source": []
  }
 ],
 "metadata": {
  "kernelspec": {
   "display_name": "Python 3",
   "language": "python",
   "name": "python3"
  },
  "language_info": {
   "codemirror_mode": {
    "name": "ipython",
    "version": 3
   },
   "file_extension": ".py",
   "mimetype": "text/x-python",
   "name": "python",
   "nbconvert_exporter": "python",
   "pygments_lexer": "ipython3",
   "version": "3.6.2"
  }
 },
 "nbformat": 4,
 "nbformat_minor": 2
}
