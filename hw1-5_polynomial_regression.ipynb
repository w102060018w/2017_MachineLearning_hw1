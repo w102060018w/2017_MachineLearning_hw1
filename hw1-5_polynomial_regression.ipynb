{
 "cells": [
  {
   "cell_type": "markdown",
   "metadata": {},
   "source": [
    "## Polynomial Regression\n",
    "Apply polynomial regression on real-world problem which has multi-dimension on input data.</br>\n",
    "\n",
    "##### Data\n",
    "There are 3 classes of 50 instances for each. </br>\n",
    "The first 40 samples of each class are used as training set, and the last 10 samples as testing set.</br>\n",
    "\n",
    "**Number of attributes**: 5 (4-dim input (data), 1-dim targrt (class-label))"
   ]
  },
  {
   "cell_type": "code",
   "execution_count": 1,
   "metadata": {
    "collapsed": true
   },
   "outputs": [],
   "source": [
    "import pandas as pd\n",
    "import numpy as np\n",
    "from numpy.linalg import pinv,inv,matrix_power\n",
    "from scipy.io import loadmat\n",
    "import itertools"
   ]
  },
  {
   "cell_type": "markdown",
   "metadata": {},
   "source": [
    "### Load and preprocess data"
   ]
  },
  {
   "cell_type": "code",
   "execution_count": 2,
   "metadata": {},
   "outputs": [
    {
     "name": "stdout",
     "output_type": "stream",
     "text": [
      "Finish preprocess of data\n"
     ]
    }
   ],
   "source": [
    "data_dir = './data/'\n",
    "x = loadmat(data_dir+'5_X.mat')['X']\n",
    "t = loadmat(data_dir+'5_T.mat')['T']\n",
    "# print(tr)\n",
    "# print(ts)\n",
    "\n",
    "x_dim = 4\n",
    "t_dim = 1\n",
    "n_per_class = 50 \n",
    "class_n = 3\n",
    "\n",
    "# prepare to divide into training and testing\n",
    "x = x.reshape(class_n,n_per_class,x_dim)\n",
    "t = t.reshape(class_n,n_per_class)\n",
    "\n",
    "# divide into train and test\n",
    "tr_n_per_class = 40\n",
    "ts_n_per_class = 10\n",
    "tr_x = np.zeros((tr_n_per_class*class_n , x_dim))\n",
    "ts_x = np.zeros((ts_n_per_class*class_n , x_dim))\n",
    "tr_t = np.zeros(tr_n_per_class*class_n)\n",
    "ts_t = np.zeros(ts_n_per_class*class_n)\n",
    "for cls in range(class_n):\n",
    "    tr_x[(cls)*tr_n_per_class:(cls+1)*tr_n_per_class] = x[cls][:tr_n_per_class]\n",
    "    ts_x[(cls)*ts_n_per_class:(cls+1)*ts_n_per_class] = x[cls][tr_n_per_class:]\n",
    "    tr_t[(cls)*tr_n_per_class:(cls+1)*tr_n_per_class] = t[cls][:tr_n_per_class]\n",
    "    ts_t[(cls)*ts_n_per_class:(cls+1)*ts_n_per_class] = t[cls][tr_n_per_class:]\n",
    "\n",
    "N_tr = len(tr_t)\n",
    "N_ts = len(ts_t)\n",
    "\n",
    "print('Finish preprocess of data')"
   ]
  },
  {
   "cell_type": "markdown",
   "metadata": {},
   "source": [
    "### (1) Apply regression for class estimation by minimizing the non-regularized error function\n",
    "\n",
    "The error function looks like below:\n",
    "\n",
    "$$E(w) = \\frac{1}{2}*\\sum_{n=1}^{N}(y(x_n,w)-t_n)^{2} $$\n",
    "\n",
    "However, since our input, x, now turn to be multi-dimension, the polynomial function should be generalized, here is an example of order=2 (**M=2**):\n",
    "\n",
    "\n",
    "$$y(x,w) = w_0 + \\sum_{i=1}^{D}w_i*x_i + \\sum_{i=1}^{D}\\sum_{j=1}^{D}w_{ij}*x_i*x_j $$\n",
    "\n",
    "note that in this problem, the dimension, D, equals to 4. </br>\n",
    "##### Here we apply order M = 1 and M = 2."
   ]
  },
  {
   "cell_type": "code",
   "execution_count": 3,
   "metadata": {},
   "outputs": [
    {
     "name": "stdout",
     "output_type": "stream",
     "text": [
      "training rms-Err for M = 1 is 0.226279143015.\n",
      "testing rms-Err for M = 1 is 0.171124893337.\n",
      "==============================================\n",
      "training rms-Err for M = 2 is 0.188594629096.\n",
      "testing rms-Err for M = 2 is 0.153232445343.\n",
      "==============================================\n"
     ]
    }
   ],
   "source": [
    "'''\n",
    "compare to preoblem4, the only difference is the form of 'phi', o.w. the other stuffs like the solution of W still \n",
    "equals to (phi^T * phi)^-1 * phi^T * t.\n",
    "phi = [[x1^0,x1^1....x1^M],[x2^0,x2^1....x2^M], .... [xN^0,xN^1....xN^M]], while each x1, x2, ... xN are all in \n",
    "'Vector' form.\n",
    "t = [t1,t2,t3 ... ,tN], which are just 'class-label' of each xN\n",
    "'''\n",
    "# Recursive produce power of vector\n",
    "def helper(data,m):\n",
    "    if m < 1:\n",
    "        return np.asarray([[1]]) # [[x1^{0}],[x2^{0}], ... ,[xN^{0}]]\n",
    "    else:\n",
    "        return np.asarray([[x*y for y in data] for x in helper(data,m-1)[0]]) # recursively create the power of x-vector\n",
    "    \n",
    "def CreatePowerMat(high_dim_data,m):\n",
    "    lst = []\n",
    "    high_dim_data = list(high_dim_data)\n",
    "    for i in range(m+1):\n",
    "        mat = helper(high_dim_data,i)\n",
    "        lst = lst + list(mat.reshape(1,-1)[0])\n",
    "    return lst\n",
    "\n",
    "# Use pseudo inverse to calculate best-weight(W)\n",
    "def Cal_W(tr_x, M, x_dim):\n",
    "    Phi_mat = [list(x) for x in np.zeros((N_tr,1))] # initial\n",
    "    T = np.zeros((N_tr,1))\n",
    "    W = []\n",
    "\n",
    "    for r_idx in range(N_tr):\n",
    "        Phi_mat[r_idx] = CreatePowerMat(tr_x[r_idx],M)\n",
    "        T[r_idx][0] = tr_t[r_idx]\n",
    "\n",
    "    Phi_mat = np.asarray(Phi_mat)\n",
    "    \n",
    "    # Start calculating W result\n",
    "    W = np.dot( pinv(Phi_mat) , T)\n",
    "    \n",
    "    # Save w-vector power in global-variable and later use in y(x,w)\n",
    "    s_p = 0\n",
    "    for i in range(M+1):\n",
    "        size_w = x_dim**i\n",
    "        W_mat.append(W[s_p:s_p+size_w])\n",
    "        s_p += size_w\n",
    "    \n",
    "    return W\n",
    "          \n",
    "# Root mean square\n",
    "def poly_func (input_data, m):\n",
    "    val = 0    \n",
    "    for i in range(m+1): \n",
    "        # create x-vec power\n",
    "        x_ = helper(input_data,i)\n",
    "        x_ = x_.reshape(1,-1)[0]\n",
    "\n",
    "        # retrieve data from pre-saved W\n",
    "        w_ = W_mat[i].reshape(1,-1)[0]\n",
    "\n",
    "        # calculate y-func value\n",
    "        val += np.sum(x_ * w_)\n",
    "\n",
    "    return val\n",
    "\n",
    "def Cal_rms(length, input_data, target_data, W, m):\n",
    "    Err = 0\n",
    "    for n in range(length):\n",
    "        # careful on the transpose result have to index into it again\n",
    "        Err += (poly_func(input_data[n], m) - target_data[n])**2 \n",
    "    Err /= 2\n",
    "    RMS_err = np.sqrt((2*Err)/length)\n",
    "\n",
    "    return RMS_err\n",
    "    \n",
    "    \n",
    "# Main Function\n",
    "tr_rms_ary = []\n",
    "ts_rms_ary = []\n",
    "Ms = [1,2]\n",
    "for M in Ms:\n",
    "    W_mat = []\n",
    "    Best_W = Cal_W(tr_x, M, x_dim)\n",
    "    RMS_err_tr = Cal_rms(N_tr, tr_x, tr_t, Best_W, M)\n",
    "    RMS_err_ts = Cal_rms(N_ts, ts_x, ts_t, Best_W, M)\n",
    "    tr_rms_ary.append(RMS_err_tr)\n",
    "    ts_rms_ary.append(RMS_err_ts)\n",
    "    \n",
    "    print('training rms-Err for M = %s is %s.' % (str(M),str(RMS_err_tr)))\n",
    "    print('testing rms-Err for M = %s is %s.' % (str(M),str(RMS_err_ts)))\n",
    "    print('==============================================')"
   ]
  },
  {
   "cell_type": "code",
   "execution_count": 4,
   "metadata": {},
   "outputs": [
    {
     "data": {
      "image/png": "[encoded data removed]",
      "text/plain": [
       "<matplotlib.figure.Figure at 0x180ba2c0b8>"
      ]
     },
     "metadata": {},
     "output_type": "display_data"
    }
   ],
   "source": [
    "# visualize result\n",
    "import matplotlib.pyplot as plt\n",
    "%matplotlib inline\n",
    "\n",
    "fig = plt.figure()\n",
    "cmap = plt.get_cmap('gnuplot')\n",
    "colors = [cmap(i) for i in np.linspace(0, 1, 4)]\n",
    "plt.plot(range(1,len(Ms)+1),tr_rms_ary ,color=colors[1], label='training-RMS_err'.format(i=0))\n",
    "plt.plot(range(1,len(Ms)+1),ts_rms_ary ,color=colors[2], label='testing-RMS_err'.format(i=1))\n",
    "#          'ro-', label='training-RMSerr'.format(0),range(1,10),ts_rms_ary,'bo-',label='testing-RMSerr'.format(0))\n",
    "# plt.axis([0, 6, 0, 20])\n",
    "plt.legend(loc='best')\n",
    "plt.xlabel('M-Value')\n",
    "plt.ylabel('RMS')\n",
    "plt.savefig('./OutputFigure/hw1-5-(1)_non_regularize_multi-dim.png')\n",
    "\n",
    "plt.show()\n",
    "plt.close(fig)"
   ]
  },
  {
   "cell_type": "markdown",
   "metadata": {},
   "source": [
    "### (2) Select most contributive attribute\n",
    "Apply polynomials of order M=2 and select the most contributive attribute. (lowest RMS error on training set)"
   ]
  },
  {
   "cell_type": "code",
   "execution_count": 5,
   "metadata": {},
   "outputs": [
    {
     "name": "stdout",
     "output_type": "stream",
     "text": [
      "training rms-Err for removing Column-Index = 0 is 0.209939408751.\n",
      "training rms-Err for removing Column-Index = 1 is 0.208753917438.\n",
      "training rms-Err for removing Column-Index = 2 is 0.225311937506.\n",
      "training rms-Err for removing Column-Index = 3 is 0.213847493016.\n",
      "=============================================================\n",
      "Worse rms-Err is 0.225311937506. Happenend in removing attribute 2.\n",
      "=============================================================\n",
      "=============================================================\n"
     ]
    }
   ],
   "source": [
    "#Find a best attribute\n",
    "    \n",
    "tr_rms_ary = []\n",
    "M = 2\n",
    "Min_rms_attri = None\n",
    "better_tr_RMS = -np.inf\n",
    "choices = [0,1,2,3]\n",
    "keep_dim = 3\n",
    "for choice in choices:\n",
    "    \n",
    "    # extract attribute\n",
    "    \n",
    "    attri_lst = [0,1,2,3]\n",
    "    attri_lst.remove(choice)\n",
    "    tr_x_d = tr_x[:,attri_lst].reshape(N_tr,-1)\n",
    "\n",
    "    # calculate best weight\n",
    "    W_mat = []\n",
    "    Best_W = Cal_W(tr_x_d, M, keep_dim)\n",
    "    RMS_err_tr = Cal_rms(N_tr, tr_x_d, tr_t, Best_W, M)\n",
    "    print('training rms-Err for removing Column-Index = %s is %s.' % (str(choice),str(RMS_err_tr)))\n",
    "\n",
    "    # find best RMS within same dimension\n",
    "    if RMS_err_tr > better_tr_RMS:\n",
    "        better_tr_RMS = RMS_err_tr\n",
    "        Min_rms_attri = choice\n",
    "\n",
    "    tr_rms_ary.append(RMS_err_tr)\n",
    "\n",
    "print('=============================================================')\n",
    "print('Worse rms-Err is %s. Happenend in removing attribute %s.'%(str(better_tr_RMS),str(Min_rms_attri)))\n",
    "print('=============================================================')\n",
    "print('=============================================================')"
   ]
  },
  {
   "cell_type": "code",
   "execution_count": 6,
   "metadata": {},
   "outputs": [
    {
     "data": {
      "image/png": "[encoded data removed]",
      "text/plain": [
       "<matplotlib.figure.Figure at 0x1814a2f710>"
      ]
     },
     "metadata": {},
     "output_type": "display_data"
    },
    {
     "name": "stdout",
     "output_type": "stream",
     "text": [
      "As the Figure show, we will choose attributes 2(start from 0). Since without this attribute, it goes to worst RMS value, 0.225311937506 .\n"
     ]
    }
   ],
   "source": [
    "# visualize result\n",
    "import matplotlib.pyplot as plt\n",
    "%matplotlib inline\n",
    "\n",
    "fig = plt.figure()\n",
    "cmap = plt.get_cmap('gnuplot')\n",
    "colors = [cmap(i) for i in np.linspace(0, 1, 4)]\n",
    "plt.plot(range(0,4),tr_rms_ary ,color=colors[1], label='training-RMS_err'.format(i=0))\n",
    "#          'ro-', label='training-RMSerr'.format(0),range(1,10),ts_rms_ary,'bo-',label='testing-RMSerr'.format(0))\n",
    "# plt.axis([0, 6, 0, 20])\n",
    "plt.legend(loc='best')\n",
    "plt.xlabel('Remove i^th Dimension')\n",
    "plt.ylabel('RMS')\n",
    "plt.savefig('./OutputFigure/hw1-5-(2)_atribute_decision.png')\n",
    "\n",
    "plt.show()\n",
    "plt.close(fig)\n",
    "print('As the Figure show, we will choose attributes %d(start from 0). Since without this attribute, it goes to worst RMS value, %s .' % (Min_rms_attri,str(better_tr_RMS)))"
   ]
  },
  {
   "cell_type": "markdown",
   "metadata": {},
   "source": [
    "### The following part is not required in this assignment\n",
    "I want to see how many dimensions can achieve the best RMS-error, so I test on all combinations from 1 dimension to 4 dimensions."
   ]
  },
  {
   "cell_type": "code",
   "execution_count": 7,
   "metadata": {},
   "outputs": [
    {
     "name": "stdout",
     "output_type": "stream",
     "text": [
      "Dimension :  1\n",
      "training rms-Err for Column-Index = 0 is 0.510306458755.\n",
      "training rms-Err for Column-Index = 1 is 0.721246737625.\n",
      "training rms-Err for Column-Index = 2 is 0.259328194102.\n",
      "training rms-Err for Column-Index = 3 is 0.251275786023.\n",
      "=============================================================\n",
      "Best rms-Err within dim 1 is 0.251275786023.\n",
      "Average rms-Err within dim 1 is 0.435539294126.\n",
      "=============================================================\n",
      "=============================================================\n",
      "Dimension :  2\n",
      "training rms-Err for Column-Index = (0, 1) is 0.411731232935.\n",
      "training rms-Err for Column-Index = (0, 2) is 0.222462665307.\n",
      "training rms-Err for Column-Index = (0, 3) is 0.248605260727.\n",
      "training rms-Err for Column-Index = (1, 2) is 0.255415787836.\n",
      "training rms-Err for Column-Index = (1, 3) is 0.236565548558.\n",
      "training rms-Err for Column-Index = (2, 3) is 0.227398992641.\n",
      "=============================================================\n",
      "Best rms-Err within dim 2 is 0.222462665307.\n",
      "Average rms-Err within dim 2 is 0.267029914667.\n",
      "=============================================================\n",
      "=============================================================\n",
      "Dimension :  3\n",
      "training rms-Err for Column-Index = (0, 1, 2) is 0.213847493016.\n",
      "training rms-Err for Column-Index = (0, 1, 3) is 0.225311937506.\n",
      "training rms-Err for Column-Index = (0, 2, 3) is 0.208753917438.\n",
      "training rms-Err for Column-Index = (1, 2, 3) is 0.209939408751.\n",
      "=============================================================\n",
      "Best rms-Err within dim 3 is 0.208753917438.\n",
      "Average rms-Err within dim 3 is 0.214463189178.\n",
      "=============================================================\n",
      "=============================================================\n",
      "Dimension :  4\n",
      "training rms-Err for Column-Index = (0, 1, 2, 3) is 0.188594629096.\n",
      "=============================================================\n",
      "Best rms-Err within dim 4 is 0.188594629096.\n",
      "Average rms-Err within dim 4 is 0.188594629096.\n",
      "=============================================================\n",
      "=============================================================\n"
     ]
    }
   ],
   "source": [
    "# Other additional work, not required in this assignment.\n",
    "# Test on how many dimension of data achieve best RMS\n",
    "    \n",
    "tr_rms_ary = []\n",
    "ts_rms_ary = []\n",
    "M = 2\n",
    "Min_rms_attri = None\n",
    "Min_rms = np.inf\n",
    "for dim in range(x_dim):\n",
    "    better_tr_RMS = np.inf\n",
    "    better_ts_RMS = np.inf\n",
    "    ave_tr_RMS = 0\n",
    "    print(\"Dimension : \",dim+1)\n",
    "    if dim == 0:\n",
    "        choices = (0,1,2,3)\n",
    "    else:\n",
    "        choices = []\n",
    "        [choices.append(x) for x in itertools.combinations(list(range(4)), dim+1)]\n",
    "    \n",
    "    for choice in choices:\n",
    "#         tr_x_d = tr_x[:,:dim+1]\n",
    "#         ts_x_d = ts_x[:,:dim+1]\n",
    "        tr_x_d = tr_x[:,choice].reshape(N_tr,-1)\n",
    "        ts_x_d = ts_x[:,choice].reshape(N_ts,-1)\n",
    "#         print(ts_x_d)\n",
    "#         print(ts_x[:,:1])\n",
    "\n",
    "        W_mat = []\n",
    "        Best_W = Cal_W(tr_x_d, M, dim+1)\n",
    "        RMS_err_tr = Cal_rms(N_tr, tr_x_d, tr_t, Best_W, M)\n",
    "        RMS_err_ts = Cal_rms(N_ts, ts_x_d, ts_t, Best_W, M)\n",
    "        \n",
    "#         \n",
    "        print('training rms-Err for Column-Index = %s is %s.' % (str(choice),str(RMS_err_tr)))\n",
    "#         print('testing rms-Err for Column-Index = %s is %s.' % (str(choice),str(RMS_err_ts)))\n",
    "    \n",
    "        # find best RMS within same dimension\n",
    "        if RMS_err_tr < better_tr_RMS:\n",
    "            better_tr_RMS = RMS_err_tr\n",
    "        if RMS_err_ts < better_ts_RMS:\n",
    "            better_ts_RMS = RMS_err_ts\n",
    "            \n",
    "        ave_tr_RMS += RMS_err_tr\n",
    "    \n",
    "    tr_rms_ary.append(better_tr_RMS)\n",
    "    ts_rms_ary.append(better_ts_RMS)\n",
    "    ave_tr_RMS /= len(choices)\n",
    "        \n",
    "    print('=============================================================')\n",
    "    print('Best rms-Err within dim %s is %s.'%(str(dim+1),str(better_tr_RMS)))\n",
    "    print('Average rms-Err within dim %s is %s.'%(str(dim+1),str(ave_tr_RMS)))\n",
    "    print('=============================================================')\n",
    "    print('=============================================================')\n",
    "\n",
    "    # update best RMS, and record the best sttribute\n",
    "    if better_tr_RMS < Min_rms:\n",
    "        Min_rms = better_tr_RMS\n",
    "        Min_rms_attri = (dim+1)"
   ]
  },
  {
   "cell_type": "code",
   "execution_count": 8,
   "metadata": {},
   "outputs": [
    {
     "name": "stdout",
     "output_type": "stream",
     "text": [
      "[0.25127578602320721, 0.22246266530682901, 0.2087539174375489, 0.18859462909617253]\n"
     ]
    },
    {
     "data": {
      "image/png": "[encoded data removed]",
      "text/plain": [
       "<matplotlib.figure.Figure at 0x1814b67f28>"
      ]
     },
     "metadata": {},
     "output_type": "display_data"
    }
   ],
   "source": [
    "# visualize result\n",
    "import matplotlib.pyplot as plt\n",
    "%matplotlib inline\n",
    "\n",
    "fig = plt.figure()\n",
    "cmap = plt.get_cmap('gnuplot')\n",
    "colors = [cmap(i) for i in np.linspace(0, 1, 4)]\n",
    "plt.plot(range(1,5),tr_rms_ary ,color=colors[1], label='training-RMS_err'.format(i=0))\n",
    "plt.plot(range(1,5),ts_rms_ary ,color=colors[2], label='testing-RMS_err'.format(i=1))\n",
    "#          'ro-', label='training-RMSerr'.format(0),range(1,10),ts_rms_ary,'bo-',label='testing-RMSerr'.format(0))\n",
    "# plt.axis([0, 6, 0, 20])\n",
    "plt.legend(loc='best')\n",
    "plt.xlabel('Dimension')\n",
    "plt.ylabel('RMS')\n",
    "# plt.savefig('hw1-5-additional_test.png')\n",
    "\n",
    "plt.show()\n",
    "plt.close(fig)"
   ]
  },
  {
   "cell_type": "code",
   "execution_count": 9,
   "metadata": {},
   "outputs": [],
   "source": [
    "# # export to python file\n",
    "# !jupyter nbconvert --to python hw1-5_polynomial_regression.ipynb"
   ]
  },
  {
   "cell_type": "code",
   "execution_count": null,
   "metadata": {
    "collapsed": true
   },
   "outputs": [],
   "source": []
  }
 ],
 "metadata": {
  "kernelspec": {
   "display_name": "Python 3",
   "language": "python",
   "name": "python3"
  },
  "language_info": {
   "codemirror_mode": {
    "name": "ipython",
    "version": 3
   },
   "file_extension": ".py",
   "mimetype": "text/x-python",
   "name": "python",
   "nbconvert_exporter": "python",
   "pygments_lexer": "ipython3",
   "version": "3.6.2"
  }
 },
 "nbformat": 4,
 "nbformat_minor": 2
}
