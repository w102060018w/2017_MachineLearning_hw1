{
 "cells": [
  {
   "cell_type": "markdown",
   "metadata": {},
   "source": [
    "## Polynomial Curve Fitting\n",
    "We are going to implement linear regression."
   ]
  },
  {
   "cell_type": "code",
   "execution_count": 2,
   "metadata": {
    "collapsed": true
   },
   "outputs": [],
   "source": [
    "import pandas as pd\n",
    "import numpy as np\n",
    "from numpy.linalg import inv"
   ]
  },
  {
   "cell_type": "markdown",
   "metadata": {},
   "source": [
    "### load input and target data"
   ]
  },
  {
   "cell_type": "code",
   "execution_count": 3,
   "metadata": {},
   "outputs": [
    {
     "name": "stdout",
     "output_type": "stream",
     "text": [
      "           t         x\n",
      "0   1.976161  6.283185\n",
      "1  -1.016098  4.983216\n",
      "2  -0.266196  1.516631\n",
      "3  -2.293825  1.949954\n",
      "4   1.944328  0.216662\n",
      "5  -0.292339  1.733292\n",
      "6  -2.633983  2.166616\n",
      "7   1.032668  6.066524\n",
      "8   1.537347  4.116570\n",
      "9  -1.634889  5.849862\n",
      "10  5.296590  0.649985\n",
      "11  6.252524  0.866646\n",
      "12  1.234146  1.299969\n",
      "13 -0.859153  4.549893\n",
      "14 -4.277794  2.816600\n",
      "15  1.617105  3.899908\n",
      "16  3.831000  0.433323\n",
      "17  2.433068  0.000000\n",
      "18 -0.583350  3.033262\n",
      "19 -3.399715  5.633201\n",
      "          t         x\n",
      "0 -4.433719  2.383277\n",
      "1 -0.695587  5.199877\n",
      "2  1.392657  4.333231\n",
      "3 -2.345476  3.249923\n",
      "4 -3.565646  2.599939\n",
      "5  3.890801  1.083308\n",
      "6  0.244838  3.466585\n",
      "7 -0.289697  5.416539\n",
      "8  1.309478  4.766554\n",
      "9  0.958873  3.683247\n"
     ]
    }
   ],
   "source": [
    "data_dir = './data/'\n",
    "train_f = '4_train.csv'\n",
    "test_f = '4_test.csv'\n",
    "df_tr = pd.read_csv(data_dir+train_f)\n",
    "df_ts = pd.read_csv(data_dir+test_f)\n",
    "tr_target = df_tr['t']\n",
    "tr_input = df_tr['x']\n",
    "ts_target = df_ts['t']\n",
    "ts_input = df_ts['x']\n",
    "N_tr = len(tr_target)\n",
    "N_ts = len(ts_target)\n",
    "print(df_tr)\n",
    "print(df_ts)\n",
    "# print(type(tr_target))\n",
    "# print(len(tr_target))\n",
    "# print(tr_target[19])\n",
    "# print(tr_target)\n",
    "# print(ts_input)"
   ]
  },
  {
   "cell_type": "markdown",
   "metadata": {},
   "source": [
    "### Find Best weight base on training data and evaluate on testing data\n",
    "### 1. Non-regularized error function\n",
    "fit the data by applying a polynomial function of the form:\n",
    "\n",
    "$$y(x, w) = w_{0} + w_{1}*x + w_{1}*x^{2} + ... + w_{M}*x^{M} = \\sum_{j=0}^{M}w_j*x^{j}$$\n",
    "\n",
    "and minimize the Error function at the same time, the error function look as follows:\n",
    "\n",
    "$$E(w) = \\frac{1}{2}*\\sum_{n=1}^{N}(y(x_n,w)-t_n)^{2} $$"
   ]
  },
  {
   "cell_type": "code",
   "execution_count": 4,
   "metadata": {},
   "outputs": [
    {
     "name": "stdout",
     "output_type": "stream",
     "text": [
      "training rms-Err for M = 1 is 2.43625016533.\n",
      "testing rms-Err for M = 1 is 2.55512423758.\n",
      "training rms-Err for M = 2 is 2.09847079707.\n",
      "testing rms-Err for M = 2 is 2.272433502.\n",
      "training rms-Err for M = 3 is 2.09426470667.\n",
      "testing rms-Err for M = 3 is 2.20199758179.\n",
      "training rms-Err for M = 4 is 2.0678005492.\n",
      "testing rms-Err for M = 4 is 2.08337259908.\n",
      "training rms-Err for M = 5 is 1.11914381432.\n",
      "testing rms-Err for M = 5 is 1.25146852378.\n",
      "training rms-Err for M = 6 is 1.11663205567.\n",
      "testing rms-Err for M = 6 is 1.21720169395.\n",
      "training rms-Err for M = 7 is 0.836488442361.\n",
      "testing rms-Err for M = 7 is 1.56119720846.\n",
      "training rms-Err for M = 8 is 0.816067604021.\n",
      "testing rms-Err for M = 8 is 1.48315822277.\n",
      "training rms-Err for M = 9 is 0.752874115134.\n",
      "testing rms-Err for M = 9 is 1.5594867296.\n"
     ]
    }
   ],
   "source": [
    "'''\n",
    "base on the formula we can then know that the best W = (phi^T * phi)^-1 * phi^T * t.\n",
    "which phi = [[x1^0,x1^1....x1^M],[x2^0,x2^1....x2^M], .... [xN^0,xN^1....xN^M]]\n",
    "which t = [t1,t2,t3 ... ,tN]\n",
    "The output result of W would be in dimension of (M+1)*1\n",
    "''' \n",
    "\n",
    "tr_rms_ary = []\n",
    "ts_rms_ary = []\n",
    "for M in range(1,10):\n",
    "    # Init data-num, valu-M and matrix-initialization\n",
    "    N = len(tr_input)\n",
    "    Phi_mat = np.zeros((N,M+1))\n",
    "    T = np.zeros((N,1))\n",
    "    W = np.zeros((M,1))\n",
    "    # print(Phi_mat.shape)\n",
    "\n",
    "    for r_idx in range(Phi_mat.shape[0]):\n",
    "        for c_idx in range(Phi_mat.shape[1]):\n",
    "            Phi_mat[r_idx][c_idx] = tr_input[r_idx]**(c_idx)\n",
    "\n",
    "        T[r_idx][0] = tr_target[r_idx]\n",
    "\n",
    "    # Start calculating W result\n",
    "    phi_transpose = Phi_mat.transpose()\n",
    "    W_tmp = inv(np.dot(phi_transpose , Phi_mat))\n",
    "    W = np.dot( np.dot(W_tmp , phi_transpose) , T)\n",
    "\n",
    "\n",
    "    # Root mean square\n",
    "    def poly_func (x, w_ary):\n",
    "        y = 0\n",
    "        for i in range(len(w_ary)):\n",
    "            y += w_ary[i]*(x**i)\n",
    "        return y\n",
    "\n",
    "    def Cal_rms(length, input_data, target_data, W):\n",
    "        Err = 0\n",
    "        for n in range(length):\n",
    "            # careful on the transpose result have to index into it again\n",
    "            Err += (poly_func(input_data[n], W.transpose()[0]) - target_data[n])**2 \n",
    "        Err /= 2\n",
    "        RMS_err = np.sqrt((2*Err)/length)\n",
    "        \n",
    "        return RMS_err\n",
    "    \n",
    "    RMS_err_tr = Cal_rms(N_tr, tr_input, tr_target, W)\n",
    "    RMS_err_ts = Cal_rms(N_ts, ts_input, ts_target, W)\n",
    "    tr_rms_ary.append(RMS_err_tr)\n",
    "    ts_rms_ary.append(RMS_err_ts)\n",
    "    \n",
    "    print('training rms-Err for M = %s is %s.' % (str(M),str(RMS_err_tr)))\n",
    "    print('testing rms-Err for M = %s is %s.' % (str(M),str(RMS_err_ts)))\n",
    "    \n",
    "#     Err_tr = 0\n",
    "#     Err_ts = 0\n",
    "#     for n in range(N_tr):\n",
    "#         # careful on the transpose result have to index into it again\n",
    "#         Err_tr += (poly_func(tr_input[n], W.transpose()[0]) - tr_target[n])**2 \n",
    "#     Err_tr /= 2\n",
    "#     RMS_err_tr = np.sqrt((2*Err_tr)/N_tr)\n",
    "#     print('training rms-Err for M = %s is %s.' % (str(M),str(RMS_err_tr)))\n",
    "#     for n in range(N_ts):\n",
    "#         # careful on the transpose result have to index into it again\n",
    "#         Err_ts += (poly_func(ts_input[n], W.transpose()[0]) - ts_target[n])**2 \n",
    "#     Err_ts /= 2\n",
    "#     RMS_err_ts = np.sqrt((2*Err_ts)/N_ts)\n",
    "#     print('testing rms-Err for M = %s is %s.' % (str(M),str(RMS_err_ts)))"
   ]
  },
  {
   "cell_type": "code",
   "execution_count": 5,
   "metadata": {},
   "outputs": [
    {
     "data": {
      "image/png": "[encoded data removed]",
      "text/plain": [
       "<matplotlib.figure.Figure at 0x10936aac8>"
      ]
     },
     "metadata": {},
     "output_type": "display_data"
    }
   ],
   "source": [
    "# visualize result\n",
    "import matplotlib.pyplot as plt\n",
    "%matplotlib inline\n",
    "\n",
    "fig = plt.figure()\n",
    "cmap = plt.get_cmap('gnuplot')\n",
    "colors = [cmap(i) for i in np.linspace(0, 1, 4)]\n",
    "plt.plot(range(1,10),tr_rms_ary ,color=colors[1], label='training-RMS_err'.format(i=0))\n",
    "plt.plot(range(1,10),ts_rms_ary ,color=colors[2], label='testing-RMS_err'.format(i=1))\n",
    "#          'ro-', label='training-RMSerr'.format(0),range(1,10),ts_rms_ary,'bo-',label='testing-RMSerr'.format(0))\n",
    "# plt.axis([0, 6, 0, 20])\n",
    "plt.legend(loc='best')\n",
    "plt.xlabel('M-Value')\n",
    "plt.ylabel('RMS')\n",
    "plt.savefig('hw1-4-(1)_non_regularize.png')\n",
    "\n",
    "plt.show()\n",
    "plt.close(fig)"
   ]
  },
  {
   "cell_type": "code",
   "execution_count": 6,
   "metadata": {},
   "outputs": [
    {
     "data": {
      "text/plain": [
       "array([[  7.,  10.],\n",
       "       [ 15.,  22.]])"
      ]
     },
     "execution_count": 6,
     "metadata": {},
     "output_type": "execute_result"
    }
   ],
   "source": [
    "\n",
    "# test functino on dot\n",
    "a = np.array([[1., 2.], [3., 4.]])\n",
    "b = np.array([[1., 2.], [3., 4.]])\n",
    "np.dot(a, b)"
   ]
  },
  {
   "cell_type": "markdown",
   "metadata": {},
   "source": [
    "### 2. Regularized error function\n",
    "Now the error function turn out ot be:\n",
    "\n",
    "$$E(w) = \\frac{1}{2}*\\sum_{n=1}^{N}(y(x_n,w)-t_n)^{2} + \\frac{\\lambda}{2}*||w||^{2} $$\n",
    "\n",
    "which $||w||^{2} = w^{T}*w = w_0^{2} + w_1^{2} + w_2^{2} + .... + w_M^{2}.$\n",
    "\n",
    "Also the oder of polynomial function will be fix at 9, i.e. **M=9**, and set **$ln(\\lambda)$ from -20 to 0**"
   ]
  },
  {
   "cell_type": "code",
   "execution_count": 26,
   "metadata": {},
   "outputs": [
    {
     "name": "stdout",
     "output_type": "stream",
     "text": [
      "[[  2.68825403e+00]\n",
      " [  1.46243283e+00]\n",
      " [ -1.18624262e-01]\n",
      " [ -1.03563288e+00]\n",
      " [ -7.15410841e-01]\n",
      " [  4.22901657e-01]\n",
      " [  9.59839236e-02]\n",
      " [ -7.68159264e-02]\n",
      " [  1.32577766e-02]\n",
      " [ -7.33024654e-04]]\n"
     ]
    },
    {
     "data": {
      "text/plain": [
       "11.157975047380768"
      ]
     },
     "execution_count": 26,
     "metadata": {},
     "output_type": "execute_result"
    }
   ],
   "source": [
    "print(W)\n",
    "np.dot(list(W.transpose()[0]),list(W.transpose()[0]))"
   ]
  },
  {
   "cell_type": "code",
   "execution_count": 40,
   "metadata": {},
   "outputs": [
    {
     "name": "stdout",
     "output_type": "stream",
     "text": [
      "training rms-Err for ln(lambda) = -20 is 0.752876278196.\n",
      "testing rms-Err for ln(lambda) = -20 is 1.55949495229.\n",
      "training rms-Err for ln(lambda) = -19 is 0.752879996597.\n",
      "testing rms-Err for ln(lambda) = -19 is 1.55948066481.\n",
      "training rms-Err for ln(lambda) = -18 is 0.752890099902.\n",
      "testing rms-Err for ln(lambda) = -18 is 1.55950876284.\n",
      "training rms-Err for ln(lambda) = -17 is 0.75291755658.\n",
      "testing rms-Err for ln(lambda) = -17 is 1.55950365596.\n",
      "training rms-Err for ln(lambda) = -16 is 0.752992129681.\n",
      "testing rms-Err for ln(lambda) = -16 is 1.55952520299.\n",
      "training rms-Err for ln(lambda) = -15 is 0.753194382169.\n",
      "testing rms-Err for ln(lambda) = -15 is 1.55956652819.\n",
      "training rms-Err for ln(lambda) = -14 is 0.753740796949.\n",
      "testing rms-Err for ln(lambda) = -14 is 1.55966801977.\n",
      "training rms-Err for ln(lambda) = -13 is 0.75520169817.\n",
      "testing rms-Err for ln(lambda) = -13 is 1.55993644516.\n",
      "training rms-Err for ln(lambda) = -12 is 0.759001123148.\n",
      "testing rms-Err for ln(lambda) = -12 is 1.56054706981.\n",
      "training rms-Err for ln(lambda) = -11 is 0.768212258852.\n",
      "testing rms-Err for ln(lambda) = -11 is 1.56153701973.\n",
      "training rms-Err for ln(lambda) = -10 is 0.787205160401.\n",
      "testing rms-Err for ln(lambda) = -10 is 1.56109994491.\n",
      "training rms-Err for ln(lambda) = -9 is 0.816013126374.\n",
      "testing rms-Err for ln(lambda) = -9 is 1.55384507955.\n",
      "training rms-Err for ln(lambda) = -8 is 0.844540508566.\n",
      "testing rms-Err for ln(lambda) = -8 is 1.53853985602.\n",
      "training rms-Err for ln(lambda) = -7 is 0.863915245049.\n",
      "testing rms-Err for ln(lambda) = -7 is 1.52535692901.\n",
      "training rms-Err for ln(lambda) = -6 is 0.876593057692.\n",
      "testing rms-Err for ln(lambda) = -6 is 1.52216898181.\n",
      "training rms-Err for ln(lambda) = -5 is 0.891072339374.\n",
      "testing rms-Err for ln(lambda) = -5 is 1.53262310619.\n",
      "training rms-Err for ln(lambda) = -4 is 0.91938489238.\n",
      "testing rms-Err for ln(lambda) = -4 is 1.56506223533.\n",
      "training rms-Err for ln(lambda) = -3 is 0.977361258422.\n",
      "testing rms-Err for ln(lambda) = -3 is 1.63183198345.\n",
      "training rms-Err for ln(lambda) = -2 is 1.07455102603.\n",
      "testing rms-Err for ln(lambda) = -2 is 1.73342627467.\n",
      "training rms-Err for ln(lambda) = -1 is 1.20609755949.\n",
      "testing rms-Err for ln(lambda) = -1 is 1.86418436768.\n",
      "training rms-Err for ln(lambda) = 0 is 1.37946505331.\n",
      "testing rms-Err for ln(lambda) = 0 is 2.0372921556.\n",
      "training rms-Err for ln(lambda) = 1 is 1.61372515421.\n",
      "testing rms-Err for ln(lambda) = 1 is 2.2260695705.\n",
      "training rms-Err for ln(lambda) = 2 is 1.89139254541.\n",
      "testing rms-Err for ln(lambda) = 2 is 2.34567713599.\n",
      "training rms-Err for ln(lambda) = 3 is 2.1448587218.\n",
      "testing rms-Err for ln(lambda) = 3 is 2.34082649971.\n",
      "training rms-Err for ln(lambda) = 4 is 2.31886779276.\n",
      "testing rms-Err for ln(lambda) = 4 is 2.27890141348.\n",
      "training rms-Err for ln(lambda) = 5 is 2.4249755519.\n",
      "testing rms-Err for ln(lambda) = 5 is 2.25401176283.\n",
      "training rms-Err for ln(lambda) = 6 is 2.49162768839.\n",
      "testing rms-Err for ln(lambda) = 6 is 2.26570527421.\n",
      "training rms-Err for ln(lambda) = 7 is 2.53028335276.\n",
      "testing rms-Err for ln(lambda) = 7 is 2.28476489439.\n",
      "training rms-Err for ln(lambda) = 8 is 2.55025771993.\n",
      "testing rms-Err for ln(lambda) = 8 is 2.31010100665.\n",
      "training rms-Err for ln(lambda) = 9 is 2.56208645198.\n",
      "testing rms-Err for ln(lambda) = 9 is 2.35435959137.\n",
      "training rms-Err for ln(lambda) = 10 is 2.57184891639.\n",
      "testing rms-Err for ln(lambda) = 10 is 2.42060742675.\n",
      "training rms-Err for ln(lambda) = 11 is 2.57987720575.\n",
      "testing rms-Err for ln(lambda) = 11 is 2.48678970772.\n",
      "training rms-Err for ln(lambda) = 12 is 2.5849321426.\n",
      "testing rms-Err for ln(lambda) = 12 is 2.53025118881.\n",
      "training rms-Err for ln(lambda) = 13 is 2.58775227856.\n",
      "testing rms-Err for ln(lambda) = 13 is 2.55262411799.\n",
      "training rms-Err for ln(lambda) = 14 is 2.59005514369.\n",
      "testing rms-Err for ln(lambda) = 14 is 2.56569994505.\n",
      "training rms-Err for ln(lambda) = 15 is 2.59356279129.\n",
      "testing rms-Err for ln(lambda) = 15 is 2.5792437708.\n",
      "training rms-Err for ln(lambda) = 16 is 2.59949012263.\n",
      "testing rms-Err for ln(lambda) = 16 is 2.5980681831.\n",
      "training rms-Err for ln(lambda) = 17 is 2.60687876662.\n",
      "testing rms-Err for ln(lambda) = 17 is 2.61828643008.\n",
      "training rms-Err for ln(lambda) = 18 is 2.6129072451.\n",
      "testing rms-Err for ln(lambda) = 18 is 2.63218609609.\n",
      "training rms-Err for ln(lambda) = 19 is 2.61663972164.\n",
      "testing rms-Err for ln(lambda) = 19 is 2.6384581674.\n"
     ]
    }
   ],
   "source": [
    "'''\n",
    "The idea is just the same as non-regularized-error-function problem,\n",
    "but the solutoin of W will turn out to have additional 'lambda' in the equation.\n",
    "'''\n",
    "\n",
    "def Cal_rms_regu(length, input_data, target_data, W, lnLambda):\n",
    "    Err = 0\n",
    "    for n in range(length):\n",
    "        # careful on the transpose result have to index into it again\n",
    "        Err += (poly_func(input_data[n], W.transpose()[0]) - target_data[n])**2 \n",
    "    Err /= 2\n",
    "    Err += np.exp(lnLambda)*0.5*np.dot(list(W.transpose()[0]),list(W.transpose()[0]))\n",
    "    RMS_err = np.sqrt((2*Err)/length)\n",
    "\n",
    "    return RMS_err\n",
    "\n",
    "# Init data-num, valu-M and matrix-initialization\n",
    "lnLambdas = list(range(-20,20))\n",
    "tr_rms_ary = []\n",
    "ts_rms_ary = []\n",
    "M = 9\n",
    "for _, lnLambda in enumerate(lnLambdas):\n",
    "    Phi_mat = np.zeros((N_tr,M+1))\n",
    "    T = np.zeros((N_tr,1))\n",
    "    W = np.zeros((M,1))\n",
    "    # print(Phi_mat.shape)\n",
    "\n",
    "    for r_idx in range(Phi_mat.shape[0]):\n",
    "        for c_idx in range(Phi_mat.shape[1]):\n",
    "            Phi_mat[r_idx][c_idx] = tr_input[r_idx]**(c_idx)\n",
    "\n",
    "        T[r_idx][0] = tr_target[r_idx]\n",
    "\n",
    "    \n",
    "    # Start calculating W result (note this is regularized-err-function, whould include lamda as consideration)\n",
    "    lambda_val = np.exp(lnLambda)\n",
    "\n",
    "    phi_transpose = Phi_mat.transpose()\n",
    "    lambda_mat = np.identity(M+1)*lambda_val\n",
    "    W_tmp = inv(np.dot(phi_transpose , Phi_mat) + lambda_mat)\n",
    "    W = np.dot( np.dot(W_tmp , phi_transpose) , T)\n",
    "\n",
    "#     print(W)\n",
    "    \n",
    "    # Root mean square\n",
    "    RMS_err_tr = Cal_rms_regu(N_tr, tr_input, tr_target, W, lnLambda)\n",
    "    RMS_err_ts = Cal_rms_regu(N_ts, ts_input, ts_target, W, lnLambda)\n",
    "    tr_rms_ary.append(RMS_err_tr)\n",
    "    ts_rms_ary.append(RMS_err_ts)\n",
    "\n",
    "    print('training rms-Err for ln(lambda) = %s is %s.' % (str(lnLambda),str(RMS_err_tr)))\n",
    "    print('testing rms-Err for ln(lambda) = %s is %s.' % (str(lnLambda),str(RMS_err_ts)))"
   ]
  },
  {
   "cell_type": "code",
   "execution_count": 41,
   "metadata": {},
   "outputs": [
    {
     "name": "stdout",
     "output_type": "stream",
     "text": [
      "14\n",
      "1.73401106742e-09\n"
     ]
    }
   ],
   "source": [
    "print(np.dot([1,2,3],[1,2,3]))\n",
    "print(np.dot(list(W.transpose()[0]),list(W.transpose()[0])))"
   ]
  },
  {
   "cell_type": "code",
   "execution_count": 42,
   "metadata": {},
   "outputs": [
    {
     "name": "stdout",
     "output_type": "stream",
     "text": [
      "[[ 1.  0.  0.]\n",
      " [ 0.  1.  0.]\n",
      " [ 0.  0.  1.]]\n",
      "[[ 3.  0.  0.]\n",
      " [ 0.  3.  0.]\n",
      " [ 0.  0.  3.]]\n",
      "7.38905609893\n",
      "range(0, 3)\n"
     ]
    }
   ],
   "source": [
    "# test on identity matrix\n",
    "test_ = np.identity(3)\n",
    "test_k = test_*3\n",
    "print(test_)\n",
    "print(test_k)\n",
    "print(np.exp(2))\n",
    "print(range(3))"
   ]
  },
  {
   "cell_type": "code",
   "execution_count": 43,
   "metadata": {},
   "outputs": [
    {
     "data": {
      "image/png": "[encoded data removed]",
      "text/plain": [
       "<matplotlib.figure.Figure at 0x1134d1278>"
      ]
     },
     "metadata": {},
     "output_type": "display_data"
    }
   ],
   "source": [
    "# visualize result\n",
    "fig = plt.figure()\n",
    "cmap = plt.get_cmap('gnuplot')\n",
    "colors = [cmap(i) for i in np.linspace(0, 1, 4)]\n",
    "plt.plot(lnLambdas,tr_rms_ary ,color=colors[1], label='training-RMS_err'.format(i=0))\n",
    "plt.plot(lnLambdas,ts_rms_ary ,color=colors[2], label='testing-RMS_err'.format(i=1))\n",
    "#          'ro-', label='training-RMSerr'.format(0),range(1,10),ts_rms_ary,'bo-',label='testing-RMSerr'.format(0))\n",
    "# plt.axis([0, 6, 0, 20])\n",
    "plt.legend(loc='best')\n",
    "plt.xlabel('lnλ')\n",
    "plt.ylabel('RMS')\n",
    "plt.savefig('hw1-4-(2)_regularize.png')\n",
    "\n",
    "plt.show()\n",
    "plt.close(fig)"
   ]
  },
  {
   "cell_type": "code",
   "execution_count": null,
   "metadata": {
    "collapsed": true
   },
   "outputs": [],
   "source": []
  }
 ],
 "metadata": {
  "kernelspec": {
   "display_name": "Python 3",
   "language": "python",
   "name": "python3"
  },
  "language_info": {
   "codemirror_mode": {
    "name": "ipython",
    "version": 3
   },
   "file_extension": ".py",
   "mimetype": "text/x-python",
   "name": "python",
   "nbconvert_exporter": "python",
   "pygments_lexer": "ipython3",
   "version": "3.6.2"
  }
 },
 "nbformat": 4,
 "nbformat_minor": 2
}
